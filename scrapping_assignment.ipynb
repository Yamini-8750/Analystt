{
 "cells": [
  {
   "cell_type": "code",
   "execution_count": 7,
   "metadata": {},
   "outputs": [],
   "source": [
    "import requests\n",
    "from bs4 import BeautifulSoup\n",
    "import csv\n",
    "import time"
   ]
  },
  {
   "cell_type": "code",
   "execution_count": 8,
   "metadata": {},
   "outputs": [],
   "source": [
    "# Function to scrape product details from the listing page\n",
    "def scrape_listing_page(url):\n",
    "    headers = {\n",
    "        'User-Agent': 'Mozilla/5.0 (Windows NT 10.0; Win64; x64) AppleWebKit/537.36 (KHTML, like Gecko) Chrome/58.0.3029.110 Safari/537.3'}\n",
    "    \n",
    "    response = requests.get(url, headers=headers)\n",
    "    soup = BeautifulSoup(response.content, 'html.parser')\n",
    "\n",
    "    products = []\n",
    "    # Extract product details from each item on the page\n",
    "    for item in soup.select('.s-result-item'):\n",
    "        product_url = item.select_one('.a-link-normal.s-no-outline')['href']\n",
    "        product_name = item.select_one('.a-size-medium.a-color-base.a-text-normal').text.strip()\n",
    "        product_price = item.select_one('.a-price .a-offscreen').text.strip()\n",
    "        rating_element = item.select_one('.a-icon-alt')\n",
    "        rating = float(rating_element.text.split()[0]) if rating_element else None\n",
    "        num_reviews_element = item.select_one('.a-size-base')\n",
    "        num_reviews = int(num_reviews_element.text.replace(',', '').split()[0]) if num_reviews_element else None\n",
    "\n",
    "        products.append({\n",
    "            'Product URL': product_url,\n",
    "            'Product Name': product_name,\n",
    "            'Product Price': product_price,\n",
    "            'Rating': rating,\n",
    "            'Number of Reviews': num_reviews\n",
    "        })\n",
    "        print(products)\n",
    "\n",
    "    return products"
   ]
  },
  {
   "cell_type": "code",
   "execution_count": 9,
   "metadata": {},
   "outputs": [],
   "source": [
    "# Function to scrape additional product details from the product page\n",
    "def scrape_product_page(url):\n",
    "    headers = {\n",
    "        'User-Agent': 'Mozilla/5.0 (Windows NT 10.0; Win64; x64) AppleWebKit/537.36 (KHTML, like Gecko) Chrome/58.0.3029.110 Safari/537.3'}\n",
    "    \n",
    "    response = requests.get(url, headers=headers)\n",
    "    soup = BeautifulSoup(response.content, 'html.parser')\n",
    "\n",
    "    asin = soup.select_one('[data-asin]')['data-asin']\n",
    "    product_description = soup.select_one('#productTitle').text.strip()\n",
    "    manufacturer = soup.select_one('#bylineInfo').text.strip()\n",
    "\n",
    "    return {\n",
    "        'ASIN': asin,\n",
    "        'Description': product_description,\n",
    "        'Product Description': product_description,\n",
    "        'Manufacturer': manufacturer\n",
    "    }"
   ]
  },
  {
   "cell_type": "code",
   "execution_count": null,
   "metadata": {},
   "outputs": [],
   "source": [
    "def main():\n",
    "    base_url = \"https://www.amazon.in/s?k=bags&crid=2M096C61O4MLT&qid=1653308124&sprefix=ba%2Caps%2C283&ref=sr_pg_{}\"\n",
    "\n",
    "    all_products = []\n",
    "    total_pages = 20\n",
    "    max_products = 200\n",
    "    products_scraped = 0\n",
    "\n",
    "    for page in range(1, total_pages + 1):\n",
    "        if products_scraped >= max_products:\n",
    "            break\n",
    "\n",
    "        url = base_url.format(page)\n",
    "        products = scrape_listing_page(url)\n",
    "        all_products.extend(products)\n",
    "\n",
    "        # Scrape additional details for each product\n",
    "        for product in products:\n",
    "            if products_scraped >= max_products:\n",
    "                break\n",
    "\n",
    "            product_url = product['Product URL']\n",
    "            additional_info = scrape_product_page(product_url)\n",
    "            product.update(additional_info)\n",
    "            products_scraped += 1\n",
    "\n",
    "            # Delay to avoid overwhelming the server\n",
    "            time.sleep(1)\n",
    "\n",
    "    # Export data to a CSV file\n",
    "    with open('amazon_products.csv', 'w', newline='', encoding='utf-8') as csvfile:\n",
    "        fieldnames = ['Product URL', 'Product Name', 'Product Price', 'Rating', 'Number of Reviews',\n",
    "                      'ASIN', 'Description', 'Product Description', 'Manufacturer']\n",
    "        writer = csv.DictWriter(csvfile, fieldnames=fieldnames)\n",
    "        writer.writeheader()\n",
    "        writer.writerows(all_products)\n",
    "\n",
    "if __name__ == \"__main__\":\n",
    "    main()"
   ]
  },
  {
   "cell_type": "code",
   "execution_count": null,
   "metadata": {},
   "outputs": [],
   "source": []
  }
 ],
 "metadata": {
  "kernelspec": {
   "display_name": "Python 3",
   "language": "python",
   "name": "python3"
  },
  "language_info": {
   "codemirror_mode": {
    "name": "ipython",
    "version": 3
   },
   "file_extension": ".py",
   "mimetype": "text/x-python",
   "name": "python",
   "nbconvert_exporter": "python",
   "pygments_lexer": "ipython3",
   "version": "3.10.6"
  },
  "orig_nbformat": 4
 },
 "nbformat": 4,
 "nbformat_minor": 2
}
